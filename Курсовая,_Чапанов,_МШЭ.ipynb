{
  "cells": [
    {
      "cell_type": "markdown",
      "metadata": {
        "id": "k6SnOTFLQXYt"
      },
      "source": [
        "#**TF-IDF and LinearModel**(part 1)\n"
      ]
    },
    {
      "cell_type": "markdown",
      "metadata": {
        "id": "sc63HojQDRmL"
      },
      "source": [
        "Для начала можно использовать TFIDF и линейную регрессию:"
      ]
    },
    {
      "cell_type": "markdown",
      "metadata": {
        "id": "N-VSVWTjDj7j"
      },
      "source": [
        "Импортируем нужные библиотеки"
      ]
    },
    {
      "cell_type": "code",
      "execution_count": null,
      "metadata": {
        "id": "S84Kk3ALFmpw"
      },
      "outputs": [],
      "source": [
        "import pandas as pd\n",
        "import numpy as np\n",
        "from sklearn.linear_model import LinearRegression\n",
        "from sklearn.feature_extraction.text import TfidfVectorizer\n",
        "from sklearn.metrics import accuracy_score, r2_score\n",
        "import matplotlib.pyplot as plt\n",
        "from sklearn.model_selection import train_test_split\n",
        "from sklearn.linear_model import Ridge\n",
        "from sklearn.model_selection import cross_val_score"
      ]
    },
    {
      "cell_type": "markdown",
      "metadata": {
        "id": "8-Vr3uqGGEy4"
      },
      "source": [
        "Скачиваем данные"
      ]
    },
    {
      "cell_type": "code",
      "execution_count": null,
      "metadata": {
        "id": "VMOBwYtsGIF1"
      },
      "outputs": [],
      "source": [
        "df = pd.read_csv(\"https://raw.githubusercontent.com/evgpat/edu_stepik_first_step_in_nlp/main/datasets/salary_data_cleaned.csv\")"
      ]
    },
    {
      "cell_type": "markdown",
      "metadata": {
        "id": "KxhUnVGiPHKC"
      },
      "source": [
        "Можно посмотреть на данные с которыми мы будем работать. Целевой переменной будет \"avg_salary\".\n"
      ]
    },
    {
      "cell_type": "code",
      "execution_count": null,
      "metadata": {
        "colab": {
          "base_uri": "https://localhost:8080/",
          "height": 467
        },
        "id": "0TKWIFHPPOII",
        "outputId": "faf5e06d-c6d5-42b3-aaee-29cf51b7ff2a"
      },
      "outputs": [
        {
          "name": "stdout",
          "output_type": "stream",
          "text": [
            "(742, 28)\n"
          ]
        },
        {
          "data": {
            "image/png": "[encoded data removed]",
            "text/plain": [
              "<Figure size 640x480 with 1 Axes>"
            ]
          },
          "metadata": {},
          "output_type": "display_data"
        }
      ],
      "source": [
        "print(df.shape)#количество строк и столбцов\n",
        "df['avg_salary'].describe()#описательная статистика\n",
        "plt.hist(df['avg_salary'], bins = 70)#график распределения\n",
        "plt.show()"
      ]
    },
    {
      "cell_type": "markdown",
      "metadata": {
        "id": "rr9U7lhvIddo"
      },
      "source": [
        "**Векторизация** переменной *Job Description* с помощью метода **TF-IDF**"
      ]
    },
    {
      "cell_type": "code",
      "execution_count": null,
      "metadata": {
        "colab": {
          "base_uri": "https://localhost:8080/"
        },
        "id": "v45YHMftIrVq",
        "outputId": "559a6fc3-0e9a-4f11-e86c-93cb401d7e1b"
      },
      "outputs": [
        {
          "output_type": "execute_result",
          "data": {
            "text/plain": [
              "<742x4640 sparse matrix of type '<class 'numpy.float64'>'\n",
              "\twith 203494 stored elements in Compressed Sparse Row format>"
            ]
          },
          "metadata": {},
          "execution_count": 3
        }
      ],
      "source": [
        "tfidf = TfidfVectorizer(min_df = 5, max_df=1.0, ngram_range=(1,1))\n",
        "X = tfidf.fit_transform(df['Job Description'])\n",
        "X"
      ]
    },
    {
      "cell_type": "markdown",
      "metadata": {
        "id": "PJuSKQL8JCRG"
      },
      "source": [
        "Получилась разреженная матрица(то есть с большим количеством нулей)"
      ]
    },
    {
      "cell_type": "markdown",
      "metadata": {
        "id": "TDuTifpaJY9K"
      },
      "source": [
        "Разделим данные на тренировочные и тестовые"
      ]
    },
    {
      "cell_type": "code",
      "execution_count": null,
      "metadata": {
        "id": "t9QVC3R7JPdn"
      },
      "outputs": [],
      "source": [
        "X_train, X_test, Y_train, Y_test = train_test_split(X, df[\"avg_salary\"], test_size=0.2, random_state=42)"
      ]
    },
    {
      "cell_type": "markdown",
      "metadata": {
        "id": "h-e1sE9hKC4f"
      },
      "source": [
        "Обучаем модель и вычисляем R^2"
      ]
    },
    {
      "cell_type": "code",
      "execution_count": null,
      "metadata": {
        "colab": {
          "base_uri": "https://localhost:8080/"
        },
        "id": "gWh3XG1XKGjY",
        "outputId": "afc76ecf-9270-4dd3-92d0-64e47645b7c5"
      },
      "outputs": [
        {
          "output_type": "stream",
          "name": "stdout",
          "text": [
            "0.6191311743257972\n",
            "0.5511281006370048\n"
          ]
        }
      ],
      "source": [
        "model = Ridge(alpha=1.1)\n",
        "model.fit(X_train, Y_train)\n",
        "predictions = model.predict(X_test)\n",
        "print(r2_score(Y_test, predictions))\n",
        "print(cross_val_score(model,X, df['avg_salary'], cv=5, scoring='r2').mean())"
      ]
    },
    {
      "cell_type": "markdown",
      "metadata": {
        "id": "ATT6wqGZPNa6"
      },
      "source": [
        "Посчитана кросс-валидация и точность модели стала сильно меньше."
      ]
    },
    {
      "cell_type": "markdown",
      "metadata": {
        "id": "3N8afNbsN7zs"
      },
      "source": [
        "Можно также посмотреть, как влияют некоторые слова на заработную плату"
      ]
    },
    {
      "cell_type": "code",
      "execution_count": null,
      "metadata": {
        "colab": {
          "base_uri": "https://localhost:8080/",
          "height": 447
        },
        "id": "Zh6aePVLNsk9",
        "outputId": "df3b4d51-2311-478b-bfe1-f3d4dbff59f1"
      },
      "outputs": [
        {
          "output_type": "execute_result",
          "data": {
            "text/plain": [
              "              ngram     weight\n",
              "0         actuarial  36.893315\n",
              "1          platform  36.890454\n",
              "2            credit  35.609417\n",
              "3           climate  35.009046\n",
              "4        predictive  33.149911\n",
              "...             ...        ...\n",
              "4635       hospital -29.456601\n",
              "4636      reporting -31.522382\n",
              "4637      marketing -32.557034\n",
              "4638  environmental -34.053000\n",
              "4639        analyst -38.002826\n",
              "\n",
              "[4640 rows x 2 columns]"
            ],
            "text/html": [
              "\n",
              "  <div id=\"df-900c8937-0eeb-4263-8259-2d28766d13ec\">\n",
              "    <div class=\"colab-df-container\">\n",
              "      <div>\n",
              "<style scoped>\n",
              "    .dataframe tbody tr th:only-of-type {\n",
              "        vertical-align: middle;\n",
              "    }\n",
              "\n",
              "    .dataframe tbody tr th {\n",
              "        vertical-align: top;\n",
              "    }\n",
              "\n",
              "    .dataframe thead th {\n",
              "        text-align: right;\n",
              "    }\n",
              "</style>\n",
              "<table border=\"1\" class=\"dataframe\">\n",
              "  <thead>\n",
              "    <tr style=\"text-align: right;\">\n",
              "      <th></th>\n",
              "      <th>ngram</th>\n",
              "      <th>weight</th>\n",
              "    </tr>\n",
              "  </thead>\n",
              "  <tbody>\n",
              "    <tr>\n",
              "      <th>0</th>\n",
              "      <td>actuarial</td>\n",
              "      <td>36.893315</td>\n",
              "    </tr>\n",
              "    <tr>\n",
              "      <th>1</th>\n",
              "      <td>platform</td>\n",
              "      <td>36.890454</td>\n",
              "    </tr>\n",
              "    <tr>\n",
              "      <th>2</th>\n",
              "      <td>credit</td>\n",
              "      <td>35.609417</td>\n",
              "    </tr>\n",
              "    <tr>\n",
              "      <th>3</th>\n",
              "      <td>climate</td>\n",
              "      <td>35.009046</td>\n",
              "    </tr>\n",
              "    <tr>\n",
              "      <th>4</th>\n",
              "      <td>predictive</td>\n",
              "      <td>33.149911</td>\n",
              "    </tr>\n",
              "    <tr>\n",
              "      <th>...</th>\n",
              "      <td>...</td>\n",
              "      <td>...</td>\n",
              "    </tr>\n",
              "    <tr>\n",
              "      <th>4635</th>\n",
              "      <td>hospital</td>\n",
              "      <td>-29.456601</td>\n",
              "    </tr>\n",
              "    <tr>\n",
              "      <th>4636</th>\n",
              "      <td>reporting</td>\n",
              "      <td>-31.522382</td>\n",
              "    </tr>\n",
              "    <tr>\n",
              "      <th>4637</th>\n",
              "      <td>marketing</td>\n",
              "      <td>-32.557034</td>\n",
              "    </tr>\n",
              "    <tr>\n",
              "      <th>4638</th>\n",
              "      <td>environmental</td>\n",
              "      <td>-34.053000</td>\n",
              "    </tr>\n",
              "    <tr>\n",
              "      <th>4639</th>\n",
              "      <td>analyst</td>\n",
              "      <td>-38.002826</td>\n",
              "    </tr>\n",
              "  </tbody>\n",
              "</table>\n",
              "<p>4640 rows × 2 columns</p>\n",
              "</div>\n",
              "      <button class=\"colab-df-convert\" onclick=\"convertToInteractive('df-900c8937-0eeb-4263-8259-2d28766d13ec')\"\n",
              "              title=\"Convert this dataframe to an interactive table.\"\n",
              "              style=\"display:none;\">\n",
              "        \n",
              "  <svg xmlns=\"http://www.w3.org/2000/svg\" height=\"24px\"viewBox=\"0 0 24 24\"\n",
              "       width=\"24px\">\n",
              "    <path d=\"M0 0h24v24H0V0z\" fill=\"none\"/>\n",
              "    <path d=\"M18.56 5.44l.94 2.06.94-2.06 2.06-.94-2.06-.94-.94-2.06-.94 2.06-2.06.94zm-11 1L8.5 8.5l.94-2.06 2.06-.94-2.06-.94L8.5 2.5l-.94 2.06-2.06.94zm10 10l.94 2.06.94-2.06 2.06-.94-2.06-.94-.94-2.06-.94 2.06-2.06.94z\"/><path d=\"M17.41 7.96l-1.37-1.37c-.4-.4-.92-.59-1.43-.59-.52 0-1.04.2-1.43.59L10.3 9.45l-7.72 7.72c-.78.78-.78 2.05 0 2.83L4 21.41c.39.39.9.59 1.41.59.51 0 1.02-.2 1.41-.59l7.78-7.78 2.81-2.81c.8-.78.8-2.07 0-2.86zM5.41 20L4 18.59l7.72-7.72 1.47 1.35L5.41 20z\"/>\n",
              "  </svg>\n",
              "      </button>\n",
              "      \n",
              "  <style>\n",
              "    .colab-df-container {\n",
              "      display:flex;\n",
              "      flex-wrap:wrap;\n",
              "      gap: 12px;\n",
              "    }\n",
              "\n",
              "    .colab-df-convert {\n",
              "      background-color: #E8F0FE;\n",
              "      border: none;\n",
              "      border-radius: 50%;\n",
              "      cursor: pointer;\n",
              "      display: none;\n",
              "      fill: #1967D2;\n",
              "      height: 32px;\n",
              "      padding: 0 0 0 0;\n",
              "      width: 32px;\n",
              "    }\n",
              "\n",
              "    .colab-df-convert:hover {\n",
              "      background-color: #E2EBFA;\n",
              "      box-shadow: 0px 1px 2px rgba(60, 64, 67, 0.3), 0px 1px 3px 1px rgba(60, 64, 67, 0.15);\n",
              "      fill: #174EA6;\n",
              "    }\n",
              "\n",
              "    [theme=dark] .colab-df-convert {\n",
              "      background-color: #3B4455;\n",
              "      fill: #D2E3FC;\n",
              "    }\n",
              "\n",
              "    [theme=dark] .colab-df-convert:hover {\n",
              "      background-color: #434B5C;\n",
              "      box-shadow: 0px 1px 3px 1px rgba(0, 0, 0, 0.15);\n",
              "      filter: drop-shadow(0px 1px 2px rgba(0, 0, 0, 0.3));\n",
              "      fill: #FFFFFF;\n",
              "    }\n",
              "  </style>\n",
              "\n",
              "      <script>\n",
              "        const buttonEl =\n",
              "          document.querySelector('#df-900c8937-0eeb-4263-8259-2d28766d13ec button.colab-df-convert');\n",
              "        buttonEl.style.display =\n",
              "          google.colab.kernel.accessAllowed ? 'block' : 'none';\n",
              "\n",
              "        async function convertToInteractive(key) {\n",
              "          const element = document.querySelector('#df-900c8937-0eeb-4263-8259-2d28766d13ec');\n",
              "          const dataTable =\n",
              "            await google.colab.kernel.invokeFunction('convertToInteractive',\n",
              "                                                     [key], {});\n",
              "          if (!dataTable) return;\n",
              "\n",
              "          const docLinkHtml = 'Like what you see? Visit the ' +\n",
              "            '<a target=\"_blank\" href=https://colab.research.google.com/notebooks/data_table.ipynb>data table notebook</a>'\n",
              "            + ' to learn more about interactive tables.';\n",
              "          element.innerHTML = '';\n",
              "          dataTable['output_type'] = 'display_data';\n",
              "          await google.colab.output.renderOutput(dataTable, element);\n",
              "          const docLink = document.createElement('div');\n",
              "          docLink.innerHTML = docLinkHtml;\n",
              "          element.appendChild(docLink);\n",
              "        }\n",
              "      </script>\n",
              "    </div>\n",
              "  </div>\n",
              "  "
            ]
          },
          "metadata": {},
          "execution_count": 6
        }
      ],
      "source": [
        "coefs = sorted(zip(list(np.array(tfidf.get_feature_names_out())[model.coef_ != 0]), model.coef_[model.coef_ != 0]),\n",
        "               key=lambda x: -x[1])\n",
        "coefs = pd.DataFrame(coefs, columns=[\"ngram\", \"weight\"])\n",
        "coefs"
      ]
    },
    {
      "cell_type": "markdown",
      "metadata": {
        "id": "3aLE6OsLNN4H"
      },
      "source": [
        "Результат точности модели не очень высокий, поэтому, можно попробовать сделать более серьёзную **предобработку текста**, а также применить **нейронные сети**."
      ]
    },
    {
      "cell_type": "markdown",
      "metadata": {
        "id": "cbWskju3QyJ-"
      },
      "source": [
        "# Using **MLP**(Multilayer Perceptron) and text preprocessing"
      ]
    },
    {
      "cell_type": "markdown",
      "metadata": {
        "id": "VmkNJwU7tgnv"
      },
      "source": [
        "Импортируется библиотеки для обработки текста.\n",
        "Написана функция, которая удаляет \"стоп-слова\", и знаки пунктуации, так как ничего из этого не несет информационной ценности. Текст также пройдет лемматизацию.\n",
        "Импортируется нейронная сеть которая представляет из себя многослойный персептрон. Также испольльзуется инструмент под названием GridSearchCV - это  инструмент для подбора гиперпараметров модели с использованием перекрестной проверки (cross-validation)."
      ]
    },
    {
      "cell_type": "code",
      "execution_count": null,
      "metadata": {
        "colab": {
          "base_uri": "https://localhost:8080/"
        },
        "id": "Y1KeEjy05y47",
        "outputId": "bb2947a1-6def-48c2-a42c-b4b05751f4c9"
      },
      "outputs": [
        {
          "output_type": "stream",
          "name": "stderr",
          "text": [
            "[nltk_data] Downloading package punkt to /root/nltk_data...\n",
            "[nltk_data]   Unzipping tokenizers/punkt.zip.\n",
            "[nltk_data] Downloading package stopwords to /root/nltk_data...\n",
            "[nltk_data]   Unzipping corpora/stopwords.zip.\n",
            "[nltk_data] Downloading package wordnet to /root/nltk_data...\n"
          ]
        }
      ],
      "source": [
        "import nltk\n",
        "import string\n",
        "nltk.download('punkt')\n",
        "nltk.download('stopwords')\n",
        "nltk.download('wordnet')\n",
        "\n",
        "from nltk.tokenize import word_tokenize\n",
        "from nltk.corpus import stopwords\n",
        "from nltk.stem import WordNetLemmatizer\n",
        "from sklearn.neural_network import MLPRegressor\n",
        "from sklearn.model_selection import GridSearchCV\n",
        "from sklearn.model_selection import cross_val_score\n",
        "\n",
        "def preprocess_text(text):\n",
        "    tokens = word_tokenize(text.lower())\n",
        "    stop_words = set(stopwords.words('english'))\n",
        "    filtered_tokens = [token for token in tokens if not token in stop_words and not token in string.punctuation and not token == '’' and not token == '•']\n",
        "    lemmatizer = WordNetLemmatizer()\n",
        "    lemmatized_tokens = [lemmatizer.lemmatize(token) for token in filtered_tokens]\n",
        "    return lemmatized_tokens\n",
        "def join(text):\n",
        "    return ' '.join(text)"
      ]
    },
    {
      "cell_type": "code",
      "execution_count": null,
      "metadata": {
        "id": "XRs9BS2h6AAh"
      },
      "outputs": [],
      "source": [
        "df['Job Description'] = df['Job Description'].apply(preprocess_text)"
      ]
    },
    {
      "cell_type": "code",
      "execution_count": null,
      "metadata": {
        "id": "5zqlQSba6enK"
      },
      "outputs": [],
      "source": [
        "df['Job Description'] = df['Job Description'].apply(join)"
      ]
    },
    {
      "cell_type": "code",
      "execution_count": null,
      "metadata": {
        "colab": {
          "base_uri": "https://localhost:8080/"
        },
        "id": "_tcqRcZ26u40",
        "outputId": "330ff41d-a3d0-4dd9-ee08-a5465025b32a"
      },
      "outputs": [
        {
          "output_type": "execute_result",
          "data": {
            "text/plain": [
              "<742x4106 sparse matrix of type '<class 'numpy.float64'>'\n",
              "\twith 172697 stored elements in Compressed Sparse Row format>"
            ]
          },
          "metadata": {},
          "execution_count": 10
        }
      ],
      "source": [
        "tfidf = TfidfVectorizer(min_df = 5, max_df=1.0, ngram_range=(1,1))\n",
        "X = tfidf.fit_transform(df['Job Description'])\n",
        "X"
      ]
    },
    {
      "cell_type": "code",
      "execution_count": null,
      "metadata": {
        "id": "OTUOTIBA7IIe"
      },
      "outputs": [],
      "source": [
        "X_train, X_test, Y_train, Y_test = train_test_split(X, df[\"avg_salary\"], test_size=0.2, random_state=42)"
      ]
    },
    {
      "cell_type": "code",
      "execution_count": null,
      "metadata": {
        "colab": {
          "background_save": true
        },
        "id": "D6sFsZ3SR6y_"
      },
      "outputs": [],
      "source": [
        "mlp = MLPRegressor()\n",
        "parameters = {\n",
        "    'hidden_layer_sizes': [(50,), (100,), (50, 50), (100, 50)],\n",
        "    'activation': ['relu', 'tanh'],\n",
        "    'solver': ['adam', 'sgd']\n",
        "}\n",
        "\n",
        "grid_search = GridSearchCV(mlp, param_grid = parameters, cv=5, scoring='r2')\n",
        "grid_search.fit(X_train, Y_train)\n",
        "print(grid_search.best_score_)\n",
        "print(grid_search.best_params_)\n",
        "# 0.6615244511214486\n",
        "# {'activation': 'relu', 'hidden_layer_sizes': (50,), 'solver': 'sgd'} - подобранные параметры"
      ]
    },
    {
      "cell_type": "markdown",
      "metadata": {
        "id": "AMGU13w3R7pa"
      },
      "source": [
        "Эта часть кода отвечает за подбор гиперпараметров."
      ]
    },
    {
      "cell_type": "code",
      "execution_count": null,
      "metadata": {
        "id": "BLOw7B9kRMWk"
      },
      "outputs": [],
      "source": [
        "mlp = MLPRegressor(hidden_layer_sizes=(50), activation='relu', solver='sgd', max_iter=500)\n",
        "mlp.fit(X_train, Y_train)\n",
        "predictions = mlp.predict(X_test)\n",
        "# Оценка качества модели\n",
        "score = r2_score(Y_test, predictions)\n",
        "print('Score:', score)\n",
        "#Score: 0.826932403271288\n",
        "# scores = cross_val_score(mlp, X, df['avg_salary'], cv=5, scoring='r2')\n",
        "# print('R2-score:', scores)\n",
        "# # R2-score: [0.39444059 0.46848431 0.8851489  0.87579443 0.73198845]\n",
        "# scores.mean()\n",
        "# 0.6711713343113992\n"
      ]
    },
    {
      "cell_type": "markdown",
      "metadata": {
        "id": "pUo9PP6OQ9EN"
      },
      "source": [
        "Тут происходит тренировка модели. Изначально точность довольно высокая, но при использовании кросс-валидации, она уменьшается. Однако результат сильно больше чем при использовании линейной модели. На линейной модели результат был 0.55 а тут 0.67."
      ]
    },
    {
      "cell_type": "markdown",
      "metadata": {
        "id": "PWHLMQRRTSfG"
      },
      "source": [
        "Нужно отметить, что количество текста, на котором обучалась модель довольно небольшое, и, в таком случае, не рекомендуется использовать нейронные сети. Однако, так как идет работа со словами, и возможны нелинейные зависимости, то использование нейросети допускается."
      ]
    }
  ],
  "metadata": {
    "colab": {
      "provenance": []
    },
    "kernelspec": {
      "display_name": "Python 3",
      "name": "python3"
    },
    "language_info": {
      "name": "python"
    }
  },
  "nbformat": 4,
  "nbformat_minor": 0
}